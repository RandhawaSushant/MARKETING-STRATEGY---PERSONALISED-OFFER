{
 "cells": [
  {
   "cell_type": "code",
   "execution_count": 1,
   "id": "d57a6f10",
   "metadata": {
    "execution": {
     "iopub.execute_input": "2022-12-18T17:08:51.086002Z",
     "iopub.status.busy": "2022-12-18T17:08:51.084528Z",
     "iopub.status.idle": "2022-12-18T17:08:51.109422Z",
     "shell.execute_reply": "2022-12-18T17:08:51.108176Z"
    },
    "papermill": {
     "duration": 0.041785,
     "end_time": "2022-12-18T17:08:51.112180",
     "exception": false,
     "start_time": "2022-12-18T17:08:51.070395",
     "status": "completed"
    },
    "tags": []
   },
   "outputs": [
    {
     "name": "stdout",
     "output_type": "stream",
     "text": [
      "/kaggle/input/submission/m.csv\n",
      "/kaggle/input/marketing-strategy-personalised-offer/sample.csv\n",
      "/kaggle/input/marketing-strategy-personalised-offer/train_data.csv\n",
      "/kaggle/input/marketing-strategy-personalised-offer/test_data.csv\n"
     ]
    }
   ],
   "source": [
    "import os\n",
    "for dirname, _, filenames in os.walk('/kaggle/input'):\n",
    "    for filename in filenames:\n",
    "        print(os.path.join(dirname, filename))"
   ]
  },
  {
   "cell_type": "code",
   "execution_count": 2,
   "id": "5dafa081",
   "metadata": {
    "execution": {
     "iopub.execute_input": "2022-12-18T17:08:51.131942Z",
     "iopub.status.busy": "2022-12-18T17:08:51.131256Z",
     "iopub.status.idle": "2022-12-18T17:08:52.703245Z",
     "shell.execute_reply": "2022-12-18T17:08:52.701820Z"
    },
    "papermill": {
     "duration": 1.584271,
     "end_time": "2022-12-18T17:08:52.706109",
     "exception": false,
     "start_time": "2022-12-18T17:08:51.121838",
     "status": "completed"
    },
    "tags": []
   },
   "outputs": [],
   "source": [
    "import pandas as pd\n",
    "import numpy as np\n",
    "import seaborn as sns\n",
    "import matplotlib.pyplot as plt\n",
    "from sklearn.ensemble import RandomForestClassifier"
   ]
  },
  {
   "cell_type": "code",
   "execution_count": 3,
   "id": "1c5371ae",
   "metadata": {
    "execution": {
     "iopub.execute_input": "2022-12-18T17:08:52.723607Z",
     "iopub.status.busy": "2022-12-18T17:08:52.722283Z",
     "iopub.status.idle": "2022-12-18T17:08:52.899322Z",
     "shell.execute_reply": "2022-12-18T17:08:52.898328Z"
    },
    "papermill": {
     "duration": 0.18828,
     "end_time": "2022-12-18T17:08:52.901994",
     "exception": false,
     "start_time": "2022-12-18T17:08:52.713714",
     "status": "completed"
    },
    "tags": []
   },
   "outputs": [],
   "source": [
    "data=pd.read_csv('/kaggle/input/marketing-strategy-personalised-offer/train_data.csv')\n",
    "test=pd.read_csv('/kaggle/input/marketing-strategy-personalised-offer/test_data.csv')"
   ]
  },
  {
   "cell_type": "code",
   "execution_count": 4,
   "id": "fa24300c",
   "metadata": {
    "execution": {
     "iopub.execute_input": "2022-12-18T17:08:52.918629Z",
     "iopub.status.busy": "2022-12-18T17:08:52.917811Z",
     "iopub.status.idle": "2022-12-18T17:08:52.922825Z",
     "shell.execute_reply": "2022-12-18T17:08:52.921967Z"
    },
    "papermill": {
     "duration": 0.015789,
     "end_time": "2022-12-18T17:08:52.925083",
     "exception": false,
     "start_time": "2022-12-18T17:08:52.909294",
     "status": "completed"
    },
    "tags": []
   },
   "outputs": [],
   "source": [
    "data=pd.DataFrame(data)\n",
    "test=pd.DataFrame(test)"
   ]
  },
  {
   "cell_type": "code",
   "execution_count": 5,
   "id": "05b32e4e",
   "metadata": {
    "execution": {
     "iopub.execute_input": "2022-12-18T17:08:52.943553Z",
     "iopub.status.busy": "2022-12-18T17:08:52.942428Z",
     "iopub.status.idle": "2022-12-18T17:08:52.966191Z",
     "shell.execute_reply": "2022-12-18T17:08:52.964828Z"
    },
    "papermill": {
     "duration": 0.036078,
     "end_time": "2022-12-18T17:08:52.968846",
     "exception": false,
     "start_time": "2022-12-18T17:08:52.932768",
     "status": "completed"
    },
    "tags": []
   },
   "outputs": [
    {
     "data": {
      "text/plain": [
       "Yes    6994\n",
       "No     5385\n",
       "Name: Offer Accepted, dtype: int64"
      ]
     },
     "execution_count": 5,
     "metadata": {},
     "output_type": "execute_result"
    }
   ],
   "source": [
    "data['Offer Accepted'].value_counts()"
   ]
  },
  {
   "cell_type": "code",
   "execution_count": 6,
   "id": "358bfd02",
   "metadata": {
    "execution": {
     "iopub.execute_input": "2022-12-18T17:08:52.994276Z",
     "iopub.status.busy": "2022-12-18T17:08:52.993041Z",
     "iopub.status.idle": "2022-12-18T17:08:53.007045Z",
     "shell.execute_reply": "2022-12-18T17:08:53.005736Z"
    },
    "papermill": {
     "duration": 0.030975,
     "end_time": "2022-12-18T17:08:53.010662",
     "exception": false,
     "start_time": "2022-12-18T17:08:52.979687",
     "status": "completed"
    },
    "tags": []
   },
   "outputs": [],
   "source": [
    "y=data['Offer Accepted']\n",
    "X=data.drop(['car','Offer Accepted'],axis=1)"
   ]
  },
  {
   "cell_type": "code",
   "execution_count": 7,
   "id": "b26537a9",
   "metadata": {
    "execution": {
     "iopub.execute_input": "2022-12-18T17:08:53.035495Z",
     "iopub.status.busy": "2022-12-18T17:08:53.034339Z",
     "iopub.status.idle": "2022-12-18T17:08:53.045763Z",
     "shell.execute_reply": "2022-12-18T17:08:53.044824Z"
    },
    "papermill": {
     "duration": 0.028046,
     "end_time": "2022-12-18T17:08:53.048329",
     "exception": false,
     "start_time": "2022-12-18T17:08:53.020283",
     "status": "completed"
    },
    "tags": []
   },
   "outputs": [],
   "source": [
    "test=test.drop(['car'],axis=1)"
   ]
  },
  {
   "cell_type": "code",
   "execution_count": 8,
   "id": "e5b40b8a",
   "metadata": {
    "execution": {
     "iopub.execute_input": "2022-12-18T17:08:53.065238Z",
     "iopub.status.busy": "2022-12-18T17:08:53.064419Z",
     "iopub.status.idle": "2022-12-18T17:08:53.075070Z",
     "shell.execute_reply": "2022-12-18T17:08:53.073873Z"
    },
    "papermill": {
     "duration": 0.021933,
     "end_time": "2022-12-18T17:08:53.077831",
     "exception": false,
     "start_time": "2022-12-18T17:08:53.055898",
     "status": "completed"
    },
    "tags": []
   },
   "outputs": [],
   "source": [
    "from sklearn.impute import SimpleImputer\n",
    "si=SimpleImputer(strategy='most_frequent')"
   ]
  },
  {
   "cell_type": "code",
   "execution_count": 9,
   "id": "4b9fd570",
   "metadata": {
    "execution": {
     "iopub.execute_input": "2022-12-18T17:08:53.095165Z",
     "iopub.status.busy": "2022-12-18T17:08:53.094143Z",
     "iopub.status.idle": "2022-12-18T17:08:53.213971Z",
     "shell.execute_reply": "2022-12-18T17:08:53.212935Z"
    },
    "papermill": {
     "duration": 0.131242,
     "end_time": "2022-12-18T17:08:53.216701",
     "exception": false,
     "start_time": "2022-12-18T17:08:53.085459",
     "status": "completed"
    },
    "tags": []
   },
   "outputs": [],
   "source": [
    "xi=si.fit_transform(X)\n",
    "t1=si.fit_transform(test)"
   ]
  },
  {
   "cell_type": "code",
   "execution_count": 10,
   "id": "ad28e929",
   "metadata": {
    "execution": {
     "iopub.execute_input": "2022-12-18T17:08:53.233983Z",
     "iopub.status.busy": "2022-12-18T17:08:53.232949Z",
     "iopub.status.idle": "2022-12-18T17:08:53.254779Z",
     "shell.execute_reply": "2022-12-18T17:08:53.253546Z"
    },
    "papermill": {
     "duration": 0.033526,
     "end_time": "2022-12-18T17:08:53.257699",
     "exception": false,
     "start_time": "2022-12-18T17:08:53.224173",
     "status": "completed"
    },
    "tags": []
   },
   "outputs": [],
   "source": [
    "xi=pd.DataFrame(xi,columns=['offer expiration', 'income_range', 'no_visited_Cold drinks',\n",
    "       'travelled_more_than_15mins_for_offer', 'Restaur_spend_less_than20',\n",
    "       'Marital Status', 'restaurant type', 'age',\n",
    "       'Prefer western over chinese', 'travelled_more_than_25mins_for_offer',\n",
    "       'travelled_more_than_5mins_for_offer', 'no_visited_bars', 'gender',\n",
    "       'restuarant_same_direction_house', 'Cooks regularly', 'Customer type',\n",
    "       'Qualification', 'is foodie', 'no_Take-aways', 'Job/Job Industry',\n",
    "       'restuarant_opposite_direction_house', 'has Children',\n",
    "       'visit restaurant with rating (avg)', 'temperature',\n",
    "       'Restaur_spend_greater_than20', 'Travel Time', 'Climate',\n",
    "       'drop location', 'Prefer home food'])\n",
    "t1=pd.DataFrame(t1,columns=['offer expiration', 'income_range', 'no_visited_Cold drinks',\n",
    "       'travelled_more_than_15mins_for_offer', 'Restaur_spend_less_than20',\n",
    "       'Marital Status', 'restaurant type', 'age',\n",
    "       'Prefer western over chinese', 'travelled_more_than_25mins_for_offer',\n",
    "       'travelled_more_than_5mins_for_offer', 'no_visited_bars', 'gender',\n",
    "       'restuarant_same_direction_house', 'Cooks regularly', 'Customer type',\n",
    "       'Qualification', 'is foodie', 'no_Take-aways', 'Job/Job Industry',\n",
    "       'restuarant_opposite_direction_house', 'has Children',\n",
    "       'visit restaurant with rating (avg)', 'temperature',\n",
    "       'Restaur_spend_greater_than20', 'Travel Time', 'Climate',\n",
    "       'drop location', 'Prefer home food'])"
   ]
  },
  {
   "cell_type": "code",
   "execution_count": 11,
   "id": "11db675e",
   "metadata": {
    "execution": {
     "iopub.execute_input": "2022-12-18T17:08:53.274608Z",
     "iopub.status.busy": "2022-12-18T17:08:53.274172Z",
     "iopub.status.idle": "2022-12-18T17:08:53.280369Z",
     "shell.execute_reply": "2022-12-18T17:08:53.279269Z"
    },
    "papermill": {
     "duration": 0.017426,
     "end_time": "2022-12-18T17:08:53.282782",
     "exception": false,
     "start_time": "2022-12-18T17:08:53.265356",
     "status": "completed"
    },
    "tags": []
   },
   "outputs": [],
   "source": [
    "from sklearn.preprocessing import OrdinalEncoder,MinMaxScaler,LabelEncoder\n",
    "mms=MinMaxScaler()\n",
    "one=OrdinalEncoder()\n",
    "le=LabelEncoder()\n"
   ]
  },
  {
   "cell_type": "code",
   "execution_count": 12,
   "id": "f4478f3b",
   "metadata": {
    "execution": {
     "iopub.execute_input": "2022-12-18T17:08:53.299695Z",
     "iopub.status.busy": "2022-12-18T17:08:53.299271Z",
     "iopub.status.idle": "2022-12-18T17:08:53.315841Z",
     "shell.execute_reply": "2022-12-18T17:08:53.314862Z"
    },
    "papermill": {
     "duration": 0.028277,
     "end_time": "2022-12-18T17:08:53.318537",
     "exception": false,
     "start_time": "2022-12-18T17:08:53.290260",
     "status": "completed"
    },
    "tags": []
   },
   "outputs": [],
   "source": [
    "X1=mms.fit_transform(xi[['temperature','Travel Time']])\n",
    "T1=mms.fit_transform(t1[['temperature','Travel Time']])"
   ]
  },
  {
   "cell_type": "code",
   "execution_count": 13,
   "id": "93e85195",
   "metadata": {
    "execution": {
     "iopub.execute_input": "2022-12-18T17:08:53.335649Z",
     "iopub.status.busy": "2022-12-18T17:08:53.335220Z",
     "iopub.status.idle": "2022-12-18T17:08:53.505134Z",
     "shell.execute_reply": "2022-12-18T17:08:53.503905Z"
    },
    "papermill": {
     "duration": 0.181595,
     "end_time": "2022-12-18T17:08:53.507718",
     "exception": false,
     "start_time": "2022-12-18T17:08:53.326123",
     "status": "completed"
    },
    "tags": []
   },
   "outputs": [],
   "source": [
    "X2=one.fit_transform(xi[['offer expiration', 'income_range', 'no_visited_Cold drinks',\n",
    "       'travelled_more_than_15mins_for_offer', 'Restaur_spend_less_than20',\n",
    "       'Marital Status', 'restaurant type', 'age',\n",
    "       'Prefer western over chinese', 'travelled_more_than_25mins_for_offer',\n",
    "       'travelled_more_than_5mins_for_offer', 'no_visited_bars', 'gender',\n",
    "       'restuarant_same_direction_house', 'Cooks regularly', 'Customer type',\n",
    "       'Qualification', 'is foodie', 'no_Take-aways', 'Job/Job Industry',\n",
    "       'restuarant_opposite_direction_house', 'has Children',\n",
    "       'visit restaurant with rating (avg)',\n",
    "       'Restaur_spend_greater_than20', 'Climate',\n",
    "       'drop location', 'Prefer home food']])\n",
    "T2=one.fit_transform(t1[['offer expiration', 'income_range', 'no_visited_Cold drinks',\n",
    "       'travelled_more_than_15mins_for_offer', 'Restaur_spend_less_than20',\n",
    "       'Marital Status', 'restaurant type', 'age',\n",
    "       'Prefer western over chinese', 'travelled_more_than_25mins_for_offer',\n",
    "       'travelled_more_than_5mins_for_offer', 'no_visited_bars', 'gender',\n",
    "       'restuarant_same_direction_house', 'Cooks regularly', 'Customer type',\n",
    "       'Qualification', 'is foodie', 'no_Take-aways', 'Job/Job Industry',\n",
    "       'restuarant_opposite_direction_house', 'has Children',\n",
    "       'visit restaurant with rating (avg)',\n",
    "       'Restaur_spend_greater_than20', 'Climate',\n",
    "       'drop location', 'Prefer home food']])"
   ]
  },
  {
   "cell_type": "code",
   "execution_count": 14,
   "id": "76a6b10c",
   "metadata": {
    "execution": {
     "iopub.execute_input": "2022-12-18T17:08:53.524671Z",
     "iopub.status.busy": "2022-12-18T17:08:53.524238Z",
     "iopub.status.idle": "2022-12-18T17:08:53.532719Z",
     "shell.execute_reply": "2022-12-18T17:08:53.531491Z"
    },
    "papermill": {
     "duration": 0.019788,
     "end_time": "2022-12-18T17:08:53.535189",
     "exception": false,
     "start_time": "2022-12-18T17:08:53.515401",
     "status": "completed"
    },
    "tags": []
   },
   "outputs": [],
   "source": [
    "y_train=le.fit_transform(y)"
   ]
  },
  {
   "cell_type": "code",
   "execution_count": 15,
   "id": "44355a92",
   "metadata": {
    "execution": {
     "iopub.execute_input": "2022-12-18T17:08:53.552533Z",
     "iopub.status.busy": "2022-12-18T17:08:53.551675Z",
     "iopub.status.idle": "2022-12-18T17:08:53.558961Z",
     "shell.execute_reply": "2022-12-18T17:08:53.557621Z"
    },
    "papermill": {
     "duration": 0.018738,
     "end_time": "2022-12-18T17:08:53.561594",
     "exception": false,
     "start_time": "2022-12-18T17:08:53.542856",
     "status": "completed"
    },
    "tags": []
   },
   "outputs": [],
   "source": [
    "X_train=np.concatenate((X1,X2),axis=1)\n",
    "X_test=np.concatenate((T1,T2),axis=1)"
   ]
  },
  {
   "cell_type": "code",
   "execution_count": 16,
   "id": "667f3652",
   "metadata": {
    "execution": {
     "iopub.execute_input": "2022-12-18T17:08:53.578946Z",
     "iopub.status.busy": "2022-12-18T17:08:53.578015Z",
     "iopub.status.idle": "2022-12-18T17:08:53.637515Z",
     "shell.execute_reply": "2022-12-18T17:08:53.635703Z"
    },
    "papermill": {
     "duration": 0.072811,
     "end_time": "2022-12-18T17:08:53.641953",
     "exception": false,
     "start_time": "2022-12-18T17:08:53.569142",
     "status": "completed"
    },
    "tags": []
   },
   "outputs": [
    {
     "data": {
      "text/plain": [
       "0.5700783585103805"
      ]
     },
     "execution_count": 16,
     "metadata": {},
     "output_type": "execute_result"
    }
   ],
   "source": [
    "from sklearn.linear_model import SGDClassifier\n",
    "sgd = SGDClassifier(loss='log', penalty='l2', alpha=0.001, learning_rate='constant', eta0=0.01, max_iter=20, random_state=32)\n",
    "sgd.fit(X_train, y_train)\n",
    "sgd.score(X_train, y_train)"
   ]
  },
  {
   "cell_type": "code",
   "execution_count": 17,
   "id": "37c52d85",
   "metadata": {
    "execution": {
     "iopub.execute_input": "2022-12-18T17:08:53.682727Z",
     "iopub.status.busy": "2022-12-18T17:08:53.682026Z",
     "iopub.status.idle": "2022-12-18T17:08:53.697837Z",
     "shell.execute_reply": "2022-12-18T17:08:53.696235Z"
    },
    "papermill": {
     "duration": 0.040489,
     "end_time": "2022-12-18T17:08:53.701861",
     "exception": false,
     "start_time": "2022-12-18T17:08:53.661372",
     "status": "completed"
    },
    "tags": []
   },
   "outputs": [],
   "source": [
    "from sklearn.model_selection import RandomizedSearchCV\n",
    "n_estimators = [int(x) for x in np.linspace(start = 10, stop = 100, num = 10)]\n",
    "\n",
    "max_features = ['auto', 'sqrt']\n",
    "\n",
    "max_depth = [int(x) for x in np.linspace(10, 100, num = 10)]\n",
    "max_depth.append(None)\n",
    "\n",
    "min_samples_split = [ 3,6,9,12,15,18,21,24]\n",
    "\n",
    "min_samples_leaf = [1, 2, 4,6,8,10,12]\n",
    "\n",
    "bootstrap = [True, False]\n",
    "\n",
    "random_grid = {'n_estimators': n_estimators,\n",
    "               'max_features': max_features,\n",
    "               'max_depth': max_depth,\n",
    "               'min_samples_split': min_samples_split,\n",
    "               'min_samples_leaf': min_samples_leaf,\n",
    "               'bootstrap': bootstrap}\n"
   ]
  },
  {
   "cell_type": "code",
   "execution_count": 18,
   "id": "b74a31a7",
   "metadata": {
    "execution": {
     "iopub.execute_input": "2022-12-18T17:08:53.742663Z",
     "iopub.status.busy": "2022-12-18T17:08:53.741975Z",
     "iopub.status.idle": "2022-12-18T17:10:05.652062Z",
     "shell.execute_reply": "2022-12-18T17:10:05.650749Z"
    },
    "papermill": {
     "duration": 71.941196,
     "end_time": "2022-12-18T17:10:05.662238",
     "exception": false,
     "start_time": "2022-12-18T17:08:53.721042",
     "status": "completed"
    },
    "tags": []
   },
   "outputs": [
    {
     "data": {
      "text/plain": [
       "RandomizedSearchCV(cv=3, estimator=RandomForestClassifier(), n_iter=100,\n",
       "                   n_jobs=-1,\n",
       "                   param_distributions={'bootstrap': [True, False],\n",
       "                                        'max_depth': [10, 20, 30, 40, 50, 60,\n",
       "                                                      70, 80, 90, 100, None],\n",
       "                                        'max_features': ['auto', 'sqrt'],\n",
       "                                        'min_samples_leaf': [1, 2, 4, 6, 8, 10,\n",
       "                                                             12],\n",
       "                                        'min_samples_split': [3, 6, 9, 12, 15,\n",
       "                                                              18, 21, 24],\n",
       "                                        'n_estimators': [10, 20, 30, 40, 50, 60,\n",
       "                                                         70, 80, 90, 100]},\n",
       "                   random_state=42)"
      ]
     },
     "execution_count": 18,
     "metadata": {},
     "output_type": "execute_result"
    }
   ],
   "source": [
    "rf = RandomForestClassifier()\n",
    "\n",
    "rf_random = RandomizedSearchCV(estimator = rf, param_distributions = random_grid, n_iter = 100, cv = 3,random_state=42,n_jobs=-1)\n",
    "\n",
    "rf_random.fit(X_train, y_train)"
   ]
  },
  {
   "cell_type": "code",
   "execution_count": 19,
   "id": "b4ef48a4",
   "metadata": {
    "execution": {
     "iopub.execute_input": "2022-12-18T17:10:05.680348Z",
     "iopub.status.busy": "2022-12-18T17:10:05.679890Z",
     "iopub.status.idle": "2022-12-18T17:10:05.687707Z",
     "shell.execute_reply": "2022-12-18T17:10:05.686589Z"
    },
    "papermill": {
     "duration": 0.020178,
     "end_time": "2022-12-18T17:10:05.690416",
     "exception": false,
     "start_time": "2022-12-18T17:10:05.670238",
     "status": "completed"
    },
    "tags": []
   },
   "outputs": [
    {
     "data": {
      "text/plain": [
       "{'n_estimators': 100,\n",
       " 'min_samples_split': 18,\n",
       " 'min_samples_leaf': 4,\n",
       " 'max_features': 'sqrt',\n",
       " 'max_depth': 80,\n",
       " 'bootstrap': False}"
      ]
     },
     "execution_count": 19,
     "metadata": {},
     "output_type": "execute_result"
    }
   ],
   "source": [
    "rf_random.best_params_"
   ]
  },
  {
   "cell_type": "code",
   "execution_count": 20,
   "id": "5b429abb",
   "metadata": {
    "execution": {
     "iopub.execute_input": "2022-12-18T17:10:05.709752Z",
     "iopub.status.busy": "2022-12-18T17:10:05.708822Z",
     "iopub.status.idle": "2022-12-18T17:10:07.793701Z",
     "shell.execute_reply": "2022-12-18T17:10:07.792654Z"
    },
    "papermill": {
     "duration": 2.097295,
     "end_time": "2022-12-18T17:10:07.796300",
     "exception": false,
     "start_time": "2022-12-18T17:10:05.699005",
     "status": "completed"
    },
    "tags": []
   },
   "outputs": [],
   "source": [
    "rfc=RandomForestClassifier(n_estimators=100,min_samples_split=18,min_samples_leaf=4,max_features='sqrt',max_depth=80,bootstrap=False,warm_start=True).fit(X_train,y_train)"
   ]
  },
  {
   "cell_type": "code",
   "execution_count": 21,
   "id": "659139f2",
   "metadata": {
    "execution": {
     "iopub.execute_input": "2022-12-18T17:10:07.813809Z",
     "iopub.status.busy": "2022-12-18T17:10:07.813375Z",
     "iopub.status.idle": "2022-12-18T17:10:08.076669Z",
     "shell.execute_reply": "2022-12-18T17:10:08.075528Z"
    },
    "papermill": {
     "duration": 0.274945,
     "end_time": "2022-12-18T17:10:08.079200",
     "exception": false,
     "start_time": "2022-12-18T17:10:07.804255",
     "status": "completed"
    },
    "tags": []
   },
   "outputs": [
    {
     "data": {
      "text/plain": [
       "0.9490265772679538"
      ]
     },
     "execution_count": 21,
     "metadata": {},
     "output_type": "execute_result"
    }
   ],
   "source": [
    "rfc.score(X_train,y_train)"
   ]
  },
  {
   "cell_type": "code",
   "execution_count": 22,
   "id": "95e69357",
   "metadata": {
    "execution": {
     "iopub.execute_input": "2022-12-18T17:10:08.097238Z",
     "iopub.status.busy": "2022-12-18T17:10:08.096825Z",
     "iopub.status.idle": "2022-12-18T17:10:08.229408Z",
     "shell.execute_reply": "2022-12-18T17:10:08.228252Z"
    },
    "papermill": {
     "duration": 0.144869,
     "end_time": "2022-12-18T17:10:08.232059",
     "exception": false,
     "start_time": "2022-12-18T17:10:08.087190",
     "status": "completed"
    },
    "tags": []
   },
   "outputs": [
    {
     "data": {
      "text/plain": [
       "(5305,)"
      ]
     },
     "execution_count": 22,
     "metadata": {},
     "output_type": "execute_result"
    }
   ],
   "source": [
    "predict=rfc.predict(X_test)\n",
    "predict.shape"
   ]
  },
  {
   "cell_type": "code",
   "execution_count": 23,
   "id": "644b4b34",
   "metadata": {
    "execution": {
     "iopub.execute_input": "2022-12-18T17:10:08.250423Z",
     "iopub.status.busy": "2022-12-18T17:10:08.249989Z",
     "iopub.status.idle": "2022-12-18T17:10:08.255139Z",
     "shell.execute_reply": "2022-12-18T17:10:08.254128Z"
    },
    "papermill": {
     "duration": 0.017627,
     "end_time": "2022-12-18T17:10:08.257858",
     "exception": false,
     "start_time": "2022-12-18T17:10:08.240231",
     "status": "completed"
    },
    "tags": []
   },
   "outputs": [],
   "source": [
    "predict=np.where(predict==1,\"Yes\",\"No\")"
   ]
  },
  {
   "cell_type": "code",
   "execution_count": 24,
   "id": "992beaaf",
   "metadata": {
    "execution": {
     "iopub.execute_input": "2022-12-18T17:10:08.276456Z",
     "iopub.status.busy": "2022-12-18T17:10:08.276011Z",
     "iopub.status.idle": "2022-12-18T17:10:08.296888Z",
     "shell.execute_reply": "2022-12-18T17:10:08.295651Z"
    },
    "papermill": {
     "duration": 0.033435,
     "end_time": "2022-12-18T17:10:08.299884",
     "exception": false,
     "start_time": "2022-12-18T17:10:08.266449",
     "status": "completed"
    },
    "tags": []
   },
   "outputs": [],
   "source": [
    "samp= pd.read_csv(\"/kaggle/input/marketing-strategy-personalised-offer/sample.csv\")\n",
    "id_ = samp.id\n",
    "y_pred= predict"
   ]
  },
  {
   "cell_type": "code",
   "execution_count": 25,
   "id": "975c935d",
   "metadata": {
    "execution": {
     "iopub.execute_input": "2022-12-18T17:10:08.318021Z",
     "iopub.status.busy": "2022-12-18T17:10:08.317651Z",
     "iopub.status.idle": "2022-12-18T17:10:08.324902Z",
     "shell.execute_reply": "2022-12-18T17:10:08.323784Z"
    },
    "papermill": {
     "duration": 0.019391,
     "end_time": "2022-12-18T17:10:08.327295",
     "exception": false,
     "start_time": "2022-12-18T17:10:08.307904",
     "status": "completed"
    },
    "tags": []
   },
   "outputs": [],
   "source": [
    "df = pd.DataFrame({\"id\" : id_,\"Offer Accepted\":predict })"
   ]
  },
  {
   "cell_type": "code",
   "execution_count": 26,
   "id": "4fa8fe30",
   "metadata": {
    "execution": {
     "iopub.execute_input": "2022-12-18T17:10:08.344913Z",
     "iopub.status.busy": "2022-12-18T17:10:08.344499Z",
     "iopub.status.idle": "2022-12-18T17:10:08.349724Z",
     "shell.execute_reply": "2022-12-18T17:10:08.348559Z"
    },
    "papermill": {
     "duration": 0.01686,
     "end_time": "2022-12-18T17:10:08.352168",
     "exception": false,
     "start_time": "2022-12-18T17:10:08.335308",
     "status": "completed"
    },
    "tags": []
   },
   "outputs": [],
   "source": [
    "submission=df"
   ]
  },
  {
   "cell_type": "code",
   "execution_count": 27,
   "id": "f4e300fc",
   "metadata": {
    "execution": {
     "iopub.execute_input": "2022-12-18T17:10:08.369797Z",
     "iopub.status.busy": "2022-12-18T17:10:08.369373Z",
     "iopub.status.idle": "2022-12-18T17:10:08.377702Z",
     "shell.execute_reply": "2022-12-18T17:10:08.376558Z"
    },
    "papermill": {
     "duration": 0.019932,
     "end_time": "2022-12-18T17:10:08.380056",
     "exception": false,
     "start_time": "2022-12-18T17:10:08.360124",
     "status": "completed"
    },
    "tags": []
   },
   "outputs": [
    {
     "data": {
      "text/plain": [
       "Index(['id', 'Offer Accepted'], dtype='object')"
      ]
     },
     "execution_count": 27,
     "metadata": {},
     "output_type": "execute_result"
    }
   ],
   "source": [
    "submission.rename(columns={'Unnamed: 0':'id','0':'Offer Accepted'},inplace=True)\n",
    "submission.columns"
   ]
  },
  {
   "cell_type": "code",
   "execution_count": 28,
   "id": "9acb4fff",
   "metadata": {
    "execution": {
     "iopub.execute_input": "2022-12-18T17:10:08.397914Z",
     "iopub.status.busy": "2022-12-18T17:10:08.397534Z",
     "iopub.status.idle": "2022-12-18T17:10:08.411876Z",
     "shell.execute_reply": "2022-12-18T17:10:08.410316Z"
    },
    "papermill": {
     "duration": 0.026755,
     "end_time": "2022-12-18T17:10:08.414774",
     "exception": false,
     "start_time": "2022-12-18T17:10:08.388019",
     "status": "completed"
    },
    "tags": []
   },
   "outputs": [],
   "source": [
    "submission.to_csv('submission.csv',index=False)"
   ]
  },
  {
   "cell_type": "code",
   "execution_count": 29,
   "id": "ada5c051",
   "metadata": {
    "execution": {
     "iopub.execute_input": "2022-12-18T17:10:08.432925Z",
     "iopub.status.busy": "2022-12-18T17:10:08.432487Z",
     "iopub.status.idle": "2022-12-18T17:10:08.451141Z",
     "shell.execute_reply": "2022-12-18T17:10:08.449979Z"
    },
    "papermill": {
     "duration": 0.030837,
     "end_time": "2022-12-18T17:10:08.453814",
     "exception": false,
     "start_time": "2022-12-18T17:10:08.422977",
     "status": "completed"
    },
    "tags": []
   },
   "outputs": [
    {
     "data": {
      "text/html": [
       "<div>\n",
       "<style scoped>\n",
       "    .dataframe tbody tr th:only-of-type {\n",
       "        vertical-align: middle;\n",
       "    }\n",
       "\n",
       "    .dataframe tbody tr th {\n",
       "        vertical-align: top;\n",
       "    }\n",
       "\n",
       "    .dataframe thead th {\n",
       "        text-align: right;\n",
       "    }\n",
       "</style>\n",
       "<table border=\"1\" class=\"dataframe\">\n",
       "  <thead>\n",
       "    <tr style=\"text-align: right;\">\n",
       "      <th></th>\n",
       "      <th>id</th>\n",
       "      <th>Offer Accepted</th>\n",
       "    </tr>\n",
       "  </thead>\n",
       "  <tbody>\n",
       "    <tr>\n",
       "      <th>0</th>\n",
       "      <td>0</td>\n",
       "      <td>Yes</td>\n",
       "    </tr>\n",
       "    <tr>\n",
       "      <th>1</th>\n",
       "      <td>1</td>\n",
       "      <td>Yes</td>\n",
       "    </tr>\n",
       "    <tr>\n",
       "      <th>2</th>\n",
       "      <td>2</td>\n",
       "      <td>No</td>\n",
       "    </tr>\n",
       "    <tr>\n",
       "      <th>3</th>\n",
       "      <td>3</td>\n",
       "      <td>No</td>\n",
       "    </tr>\n",
       "    <tr>\n",
       "      <th>4</th>\n",
       "      <td>4</td>\n",
       "      <td>Yes</td>\n",
       "    </tr>\n",
       "    <tr>\n",
       "      <th>...</th>\n",
       "      <td>...</td>\n",
       "      <td>...</td>\n",
       "    </tr>\n",
       "    <tr>\n",
       "      <th>5300</th>\n",
       "      <td>5300</td>\n",
       "      <td>Yes</td>\n",
       "    </tr>\n",
       "    <tr>\n",
       "      <th>5301</th>\n",
       "      <td>5301</td>\n",
       "      <td>Yes</td>\n",
       "    </tr>\n",
       "    <tr>\n",
       "      <th>5302</th>\n",
       "      <td>5302</td>\n",
       "      <td>No</td>\n",
       "    </tr>\n",
       "    <tr>\n",
       "      <th>5303</th>\n",
       "      <td>5303</td>\n",
       "      <td>Yes</td>\n",
       "    </tr>\n",
       "    <tr>\n",
       "      <th>5304</th>\n",
       "      <td>5304</td>\n",
       "      <td>Yes</td>\n",
       "    </tr>\n",
       "  </tbody>\n",
       "</table>\n",
       "<p>5305 rows × 2 columns</p>\n",
       "</div>"
      ],
      "text/plain": [
       "        id Offer Accepted\n",
       "0        0            Yes\n",
       "1        1            Yes\n",
       "2        2             No\n",
       "3        3             No\n",
       "4        4            Yes\n",
       "...    ...            ...\n",
       "5300  5300            Yes\n",
       "5301  5301            Yes\n",
       "5302  5302             No\n",
       "5303  5303            Yes\n",
       "5304  5304            Yes\n",
       "\n",
       "[5305 rows x 2 columns]"
      ]
     },
     "execution_count": 29,
     "metadata": {},
     "output_type": "execute_result"
    }
   ],
   "source": [
    "submission"
   ]
  }
 ],
 "metadata": {
  "kernelspec": {
   "display_name": "Python 3",
   "language": "python",
   "name": "python3"
  },
  "language_info": {
   "codemirror_mode": {
    "name": "ipython",
    "version": 3
   },
   "file_extension": ".py",
   "mimetype": "text/x-python",
   "name": "python",
   "nbconvert_exporter": "python",
   "pygments_lexer": "ipython3",
   "version": "3.7.12"
  },
  "papermill": {
   "default_parameters": {},
   "duration": 89.01664,
   "end_time": "2022-12-18T17:10:11.085432",
   "environment_variables": {},
   "exception": null,
   "input_path": "__notebook__.ipynb",
   "output_path": "__notebook__.ipynb",
   "parameters": {},
   "start_time": "2022-12-18T17:08:42.068792",
   "version": "2.3.4"
  }
 },
 "nbformat": 4,
 "nbformat_minor": 5
}
